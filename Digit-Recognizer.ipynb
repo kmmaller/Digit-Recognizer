{
 "cells": [
  {
   "cell_type": "markdown",
   "metadata": {},
   "source": [
    "# Digit Recognizer - Intro to Convolution Neural Networks\n",
    "The MNIST database of handwritten digits contains 60,000 images in the training, and 10,000 images in the test set. The digits have been size-normalized and centered in a fixed-size image of 28x28 pixels with a value between 0 and 255.\n",
    "\n",
    "This dataset is often used for learning techniques and pattern recognition methods.\n",
    "\n",
    "Kaggle does the work of flattening each 28x28 array of integers into a 1x784 row vector. Each column represents a single pixel and will be the features.\n",
    "\n",
    "This notebook working through the tutorial found here: https://elitedatascience.com/keras-tutorial-deep-learning-in-python with additional info from http://cs231n.github.io/convolutional-networks/"
   ]
  },
  {
   "cell_type": "code",
   "execution_count": 25,
   "metadata": {},
   "outputs": [],
   "source": [
    "import keras\n",
    "import theano\n",
    "import os\n",
    "import numpy as np\n",
    "from keras.models import Sequential\n",
    "from keras.layers.core import Dense, Dropout, Activation, Flatten\n",
    "from keras.layers.convolutional import Convolution2D, MaxPooling2D\n",
    "from keras.utils import np_utils\n",
    "from keras.datasets import mnist\n",
    "from matplotlib import pyplot as plt\n",
    "import pandas as pd\n",
    "from sklearn.model_selection import train_test_split\n",
    "from sklearn.metrics import classification_report\n",
    "\n",
    "%matplotlib inline"
   ]
  },
  {
   "cell_type": "markdown",
   "metadata": {},
   "source": [
    "## Data Loading and Visualization\n"
   ]
  },
  {
   "cell_type": "code",
   "execution_count": 2,
   "metadata": {},
   "outputs": [
    {
     "name": "stdout",
     "output_type": "stream",
     "text": [
      "(42000, 785)\n"
     ]
    },
    {
     "data": {
      "text/plain": [
       "1    4684\n",
       "7    4401\n",
       "3    4351\n",
       "9    4188\n",
       "2    4177\n",
       "6    4137\n",
       "0    4132\n",
       "4    4072\n",
       "8    4063\n",
       "5    3795\n",
       "Name: label, dtype: int64"
      ]
     },
     "execution_count": 2,
     "metadata": {},
     "output_type": "execute_result"
    }
   ],
   "source": [
    "## load csv file into a dataframe. training set contains 42000 'images' each with 784 pixels\n",
    "df = pd.read_csv(os.path.join('data','train.csv'))\n",
    "print(df.shape)\n",
    "# lets also isolate the label vector, y, which tells us which of the 10 digits the image represents\n",
    "y = df['label']\n",
    "X = df.drop(['label'],axis=1)\n",
    "y.value_counts()"
   ]
  },
  {
   "cell_type": "code",
   "execution_count": 3,
   "metadata": {},
   "outputs": [
    {
     "name": "stdout",
     "output_type": "stream",
     "text": [
      "(28, 28)\n"
     ]
    },
    {
     "name": "stderr",
     "output_type": "stream",
     "text": [
      "/Users/test/anaconda/lib/python3.5/site-packages/ipykernel_launcher.py:4: FutureWarning: reshape is deprecated and will raise in a subsequent release. Please use .values.reshape(...) instead\n",
      "  after removing the cwd from sys.path.\n"
     ]
    },
    {
     "data": {
      "text/plain": [
       "<function matplotlib.pyplot.show>"
      ]
     },
     "execution_count": 3,
     "metadata": {},
     "output_type": "execute_result"
    },
    {
     "data": {
      "image/png": "[encoded data removed]",
      "text/plain": [
       "<matplotlib.figure.Figure at 0x106313b70>"
      ]
     },
     "metadata": {},
     "output_type": "display_data"
    }
   ],
   "source": [
    "'''It is useful to plot out an image to get a feel for the data.  Let choose some image as an example. \n",
    "It needs to be reconstructed as a 28x28 image'''\n",
    "image_num = 7\n",
    "X0 = X.iloc[image_num].reshape(28,28)\n",
    "print(X0.shape)\n",
    "plt.imshow(X0)\n",
    "plt.show"
   ]
  },
  {
   "cell_type": "markdown",
   "metadata": {},
   "source": [
    "#### Convolution Networks work like regular neural networks but assume a 3D input (or an image). Neurons are arranged in 3D and every layer transforms 3D volumes to 3D volumes. The Convolution layer is the core building block of the network. The layer consists of a set of learnable filters. Each filter is convoled with the input. I think it is instructive to see some examples 2D convolution between our images and typical filters to get a feel for how this process works.\n",
    "for this we will use pythons scipy singal processing library"
   ]
  },
  {
   "cell_type": "code",
   "execution_count": 4,
   "metadata": {},
   "outputs": [
    {
     "data": {
      "image/png": "[encoded data removed]",
      "text/plain": [
       "<matplotlib.figure.Figure at 0x114107278>"
      ]
     },
     "metadata": {},
     "output_type": "display_data"
    }
   ],
   "source": [
    "from scipy import signal\n",
    "# Edge detection filter\n",
    "EdgeDetection = np.array([[ 1, 0,  -1],\n",
    "                          [0, 0, 0],\n",
    "                        [ -1, 0,  1]])\n",
    "# Sharpen Filter\n",
    "Sharpen = np.array([[ 0, -1,  0],\n",
    "                   [-1, 5, -1],\n",
    "                    [ 0, -1,  0]]) \n",
    "# Gaussian Blue\n",
    "GaussianBlur = np.array([[ 1/16, 1/8,  1/16],\n",
    "                   [1/8, 1/4, 1/8],\n",
    "                    [ 1/16, 1/8,  1/16]]) \n",
    "fig = plt.figure(figsize=(10, 5))\n",
    "for index,item in enumerate([EdgeDetection,Sharpen,GaussianBlur]):\n",
    "    convolution = signal.convolve2d(X0,item)\n",
    "    plt.subplot(1,3,index+1)\n",
    "    plt.imshow(convolution)\n",
    "    plt.title(str(item))\n",
    "\n",
    "fig.tight_layout()\n",
    "plt.show()\n",
    "\n"
   ]
  },
  {
   "cell_type": "markdown",
   "metadata": {},
   "source": [
    "## Data Preprocessing\n",
    "While the row vectors provided by Kaggle for each image is the right shape for a regular neural network, for a Convolution network we actually want a shape (L,W,D), where L = W = 32 and D = 1.  In general D = 3 for the three color channels (red, blue, green)"
   ]
  },
  {
   "cell_type": "code",
   "execution_count": 5,
   "metadata": {},
   "outputs": [
    {
     "name": "stdout",
     "output_type": "stream",
     "text": [
      "(42000, 1, 28, 28)\n",
      "(42000,)\n"
     ]
    }
   ],
   "source": [
    "# reshape \n",
    "X = X.as_matrix().reshape(X.shape[0],1,28,28)\n",
    "print(X.shape)\n",
    "print(y.shape)\n",
    "# convert to float32 type and normalize such that values are between 0 and 1\n",
    "X = X.astype('float32')\n",
    "X /= 255\n",
    "# split into a training set and a test set\n",
    "X_train,X_test,y_train,y_test = train_test_split(X,y,test_size=0.2,random_state=123,stratify=y)\n"
   ]
  },
  {
   "cell_type": "code",
   "execution_count": 7,
   "metadata": {},
   "outputs": [
    {
     "name": "stdout",
     "output_type": "stream",
     "text": [
      "(33600, 10)\n"
     ]
    },
    {
     "data": {
      "text/plain": [
       "array([[ 0.,  0.,  0.,  1.,  0.,  0.,  0.,  0.,  0.,  0.],\n",
       "       [ 0.,  1.,  0.,  0.,  0.,  0.,  0.,  0.,  0.,  0.],\n",
       "       [ 0.,  0.,  1.,  0.,  0.,  0.,  0.,  0.,  0.,  0.],\n",
       "       [ 0.,  0.,  0.,  0.,  0.,  0.,  0.,  1.,  0.,  0.],\n",
       "       [ 0.,  0.,  0.,  1.,  0.,  0.,  0.,  0.,  0.,  0.]])"
      ]
     },
     "execution_count": 7,
     "metadata": {},
     "output_type": "execute_result"
    }
   ],
   "source": [
    "# Our class labels need to be converted from 1-dimensional class arrays to 10-dimensional class matrices\n",
    "Y_train = np_utils.to_categorical(y_train, 10)\n",
    "Y_test = np_utils.to_categorical(y_test, 10)\n",
    "print(Y_train.shape)\n",
    "Y_train[:5]"
   ]
  },
  {
   "cell_type": "markdown",
   "metadata": {},
   "source": [
    "## Defining Model Architecture\n",
    "The simpliest convolution NN is a sequence of layers. The main types of layers are the Convolutional Layer, Pooling Layer, and Fully-Connected Layer. The convolutional layer finds the convolution between the input and a set of learnable filters.  The pooling layer performs a downsampling on our volume and the fully-connected layer will compute the class score."
   ]
  },
  {
   "cell_type": "code",
   "execution_count": 9,
   "metadata": {},
   "outputs": [
    {
     "name": "stdout",
     "output_type": "stream",
     "text": [
      "(None, 10)\n"
     ]
    }
   ],
   "source": [
    "#sequential is a linear stack of layers\n",
    "model = Sequential()\n",
    "\n",
    "'''Start adding layers: the first argument in Convolution2D the number of filters (kernals) that are in this case 3x3 pixels.\n",
    "the filters are a learned parameter in the algorithm.  setting this to 32 results in 32 \"feature maps\"\n",
    "created from 32 different LEARNED features which are 3x3 pixels.'''\n",
    "\n",
    "model.add(Convolution2D(32, 3, 3, input_shape=(1,28,28),dim_ordering='th',border_mode='same'))\n",
    "model.add(Dropout(0.1)) #to prevent overfitting, randomly drop neurons from the network during training\n",
    "convout1 = Activation('relu') #chose Rectified Linear unit (max(0,x)) as the activation function\n",
    "model.add(convout1)\n",
    "#second convolution layers\n",
    "model.add(Convolution2D(32, 3, 3, dim_ordering='th',border_mode='same'))\n",
    "convout2 = Activation('relu')\n",
    "model.add(convout2)\n",
    "\n",
    "model.add(MaxPooling2D(pool_size=(2,2),dim_ordering='th')) #quarter the images by taking max of every 2x2 pixels\n",
    "model.add(Dropout(0.25)) #regulariziation to prevent over fitting\n",
    "\n",
    "#model.add(Convolution2D(16, 3, 3, dim_ordering='th',border_mode='same'))\n",
    "#convout3 = Activation('relu')\n",
    "#model.add(convout3)\n",
    "# after a couple convolution and pooling layers we can convert our network into a more traditional NN, meaning 1D\n",
    "model.add(Flatten()) #flatten image matrix into array for \"normal\" NN\n",
    "model.add(Dense(128)) # a fully-connected hidden layer with 128 neurons\n",
    "convout4=Activation('relu')\n",
    "model.add(convout4)\n",
    "model.add(Dropout(0.5))\n",
    "model.add(Dense(10, activation='softmax')) #final fully connecting layer with output the class score and therefore need 10 neurons\n",
    "print(model.output_shape) \n"
   ]
  },
  {
   "cell_type": "markdown",
   "metadata": {},
   "source": [
    "## Compile and fit model"
   ]
  },
  {
   "cell_type": "code",
   "execution_count": 11,
   "metadata": {},
   "outputs": [],
   "source": [
    "model.compile(loss='categorical_crossentropy',\n",
    "              optimizer='adam',\n",
    "              metrics=['accuracy'])"
   ]
  },
  {
   "cell_type": "code",
   "execution_count": 12,
   "metadata": {},
   "outputs": [
    {
     "name": "stdout",
     "output_type": "stream",
     "text": [
      "Epoch 1/10\n",
      "33600/33600 [==============================] - 127s - loss: 0.2831 - acc: 0.9126   \n",
      "Epoch 2/10\n",
      "33600/33600 [==============================] - 132s - loss: 0.1098 - acc: 0.9679   \n",
      "Epoch 3/10\n",
      "33600/33600 [==============================] - 131s - loss: 0.0812 - acc: 0.9753   \n",
      "Epoch 4/10\n",
      "33600/33600 [==============================] - 132s - loss: 0.0700 - acc: 0.9782   \n",
      "Epoch 5/10\n",
      "33600/33600 [==============================] - 133s - loss: 0.0572 - acc: 0.9823   \n",
      "Epoch 6/10\n",
      "33600/33600 [==============================] - 134s - loss: 0.0484 - acc: 0.9846   \n",
      "Epoch 7/10\n",
      "33600/33600 [==============================] - 133s - loss: 0.0454 - acc: 0.9850   \n",
      "Epoch 8/10\n",
      "33600/33600 [==============================] - 132s - loss: 0.0396 - acc: 0.9877   \n",
      "Epoch 9/10\n",
      "33600/33600 [==============================] - 133s - loss: 0.0345 - acc: 0.9892   \n",
      "Epoch 10/10\n",
      "33600/33600 [==============================] - 132s - loss: 0.0324 - acc: 0.9899   \n"
     ]
    },
    {
     "data": {
      "text/plain": [
       "<keras.callbacks.History at 0x11dbcf780>"
      ]
     },
     "execution_count": 12,
     "metadata": {},
     "output_type": "execute_result"
    }
   ],
   "source": [
    "model.fit(X_train, Y_train, \n",
    "          batch_size=32, nb_epoch=10, verbose=1)"
   ]
  },
  {
   "cell_type": "markdown",
   "metadata": {},
   "source": [
    "## Finally, evaluate the model on the test data"
   ]
  },
  {
   "cell_type": "code",
   "execution_count": 13,
   "metadata": {
    "collapsed": true
   },
   "outputs": [],
   "source": [
    "score = model.evaluate(X_test, Y_test, verbose=0)"
   ]
  },
  {
   "cell_type": "code",
   "execution_count": 16,
   "metadata": {},
   "outputs": [
    {
     "name": "stdout",
     "output_type": "stream",
     "text": [
      "loss :  0.0380861007084\n",
      "acc :  0.989523809524\n"
     ]
    }
   ],
   "source": [
    "print(model.metrics_names[0],\": \",score[0])\n",
    "print(model.metrics_names[1],\": \",score[1])"
   ]
  },
  {
   "cell_type": "code",
   "execution_count": 28,
   "metadata": {},
   "outputs": [
    {
     "name": "stdout",
     "output_type": "stream",
     "text": [
      "             precision    recall  f1-score   support\n",
      "\n",
      "          0       1.00      0.99      0.99       826\n",
      "          1       1.00      0.99      0.99       937\n",
      "          2       0.99      0.99      0.99       836\n",
      "          3       0.99      0.99      0.99       870\n",
      "          4       0.99      0.99      0.99       814\n",
      "          5       0.99      0.99      0.99       759\n",
      "          6       0.98      0.99      0.99       827\n",
      "          7       0.99      0.99      0.99       880\n",
      "          8       0.99      0.98      0.98       813\n",
      "          9       0.98      0.99      0.99       838\n",
      "\n",
      "avg / total       0.99      0.99      0.99      8400\n",
      "\n"
     ]
    }
   ],
   "source": [
    "'''Use the model to make predictions for each of the images in the test set'''\n",
    "predictions = model.predict(X_test)\n",
    "'''we can use classification_report to get statistics on each output class but we need to first covert it back into \n",
    "digits 0 - 9'''\n",
    "print(classification_report(y_test,np.argmax(predictions,axis=1)))"
   ]
  }
 ],
 "metadata": {
  "kernelspec": {
   "display_name": "Python 3",
   "language": "python",
   "name": "python3"
  },
  "language_info": {
   "codemirror_mode": {
    "name": "ipython",
    "version": 3
   },
   "file_extension": ".py",
   "mimetype": "text/x-python",
   "name": "python",
   "nbconvert_exporter": "python",
   "pygments_lexer": "ipython3",
   "version": "3.5.2"
  }
 },
 "nbformat": 4,
 "nbformat_minor": 2
}
